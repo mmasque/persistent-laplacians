{
 "cells": [
  {
   "cell_type": "code",
   "execution_count": 33,
   "metadata": {},
   "outputs": [
    {
     "name": "stdout",
     "output_type": "stream",
     "text": [
      "Rank: 85\n",
      "Nullity: 15\n",
      "Smallest eigenvalues: [-4.28023830e-14+0.00000000e+00j -2.99259490e-14+0.00000000e+00j\n",
      " -1.34437035e-14-1.14809276e-14j -1.34437035e-14+1.14809276e-14j\n",
      " -1.26040493e-14-9.01735531e-15j -1.26040493e-14+9.01735531e-15j\n",
      "  2.38323540e-15-3.03287148e-15j  2.38323540e-15+3.03287148e-15j\n",
      "  8.25793197e-15+0.00000000e+00j  1.77125580e-14-1.91425496e-14j\n",
      "  1.77125580e-14+1.91425496e-14j  2.86264881e-14-1.60600301e-15j\n",
      "  2.86264881e-14+1.60600301e-15j  4.48397163e-14+0.00000000e+00j\n",
      "  4.98541985e-14+0.00000000e+00j  5.46921804e-01+0.00000000e+00j\n",
      "  1.75632906e+00+0.00000000e+00j]\n"
     ]
    }
   ],
   "source": [
    "import numpy as np\n",
    "from numpy.linalg import matrix_rank, eigvals\n",
    "\n",
    "def make_symmetric_nullity(n, k, seed=None):\n",
    "    \"\"\"\n",
    "    Returns A (nxn) symmetric with nullity=k (so rank=n-k).\n",
    "    \"\"\"\n",
    "    if not (0 <= k < n):\n",
    "        raise ValueError(\"Require 0 ≤ k < n\")\n",
    "    rng = np.random.default_rng(seed)\n",
    "    # Build B of shape (n, n–k), full column rank ⇒ rank(B)=n–k\n",
    "    B = rng.standard_normal((n, n - k))\n",
    "    # Form A = B B^T ⇒ symmetric PSD, rank = n–k, nullity = k\n",
    "    A = B @ B.T\n",
    "    return A\n",
    "\n",
    "# Example usage\n",
    "n, k = 100, 15\n",
    "A_dense = make_symmetric_nullity(n, k, seed=42)\n",
    "print(\"Rank:\", matrix_rank(A_dense))\n",
    "print(\"Nullity:\", n - matrix_rank(A_dense))\n",
    "print(\"Smallest eigenvalues:\", np.sort(eigvals(A_dense))[:k+2])"
   ]
  },
  {
   "cell_type": "code",
   "execution_count": null,
   "metadata": {},
   "outputs": [
    {
     "name": "stdout",
     "output_type": "stream",
     "text": [
      "Random symmetric matrix:\n",
      " [[ 4.97811293e+01 -1.48140681e+01  1.10082363e+01 ...  3.41392876e+00\n",
      "  -5.64252566e+00  5.24874677e+00]\n",
      " [-1.48140681e+01  7.88454828e+01 -7.42024862e+00 ... -1.89139521e+01\n",
      "  -2.30758136e+01 -2.74376695e+00]\n",
      " [ 1.10082363e+01 -7.42024862e+00  9.66496045e+01 ... -1.47539808e+00\n",
      "   1.49051796e+00  9.51669156e-02]\n",
      " ...\n",
      " [ 3.41392876e+00 -1.89139521e+01 -1.47539808e+00 ...  6.04695294e+01\n",
      "   9.71114022e+00  1.06154280e+01]\n",
      " [-5.64252566e+00 -2.30758136e+01  1.49051796e+00 ...  9.71114022e+00\n",
      "   9.52313816e+01 -3.76577889e+00]\n",
      " [ 5.24874677e+00 -2.74376695e+00  9.51669156e-02 ...  1.06154280e+01\n",
      "  -3.76577889e+00  6.90077788e+01]]\n",
      "Smallest eigenvalues: [-2.13265245e-14 -1.96567637e-14 -1.58005123e-14 -1.13350642e-14\n",
      " -8.12309447e-15 -4.44679652e-15 -6.83735424e-16  4.66477648e-15\n",
      "  5.40152355e-15  9.43327067e-15  1.17892102e-14  1.46035199e-14\n",
      "  1.56896609e-14  2.33713979e-14  2.61213679e-14]\n"
     ]
    }
   ],
   "source": [
    "import numpy as np\n",
    "from scipy.sparse import csr_matrix\n",
    "from scipy.sparse.linalg import eigsh\n",
    "\n",
    "# Convert to sparse CSR format\n",
    "A = csr_matrix(A_dense)\n",
    "\n",
    "# 3) Compute the smallest eigenvalues\n",
    "eigs, vecs = eigsh(A, which='LM', sigma=0)\n",
    "\n",
    "print(\"Random symmetric matrix:\\n\", A_dense)\n",
    "print(\"Smallest eigenvalues:\", eigs)"
   ]
  }
 ],
 "metadata": {
  "kernelspec": {
   "display_name": ".venv",
   "language": "python",
   "name": "python3"
  },
  "language_info": {
   "codemirror_mode": {
    "name": "ipython",
    "version": 3
   },
   "file_extension": ".py",
   "mimetype": "text/x-python",
   "name": "python",
   "nbconvert_exporter": "python",
   "pygments_lexer": "ipython3",
   "version": "3.10.15"
  }
 },
 "nbformat": 4,
 "nbformat_minor": 2
}
