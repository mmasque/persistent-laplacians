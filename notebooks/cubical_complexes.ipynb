{
 "cells": [
  {
   "cell_type": "code",
   "execution_count": 1,
   "metadata": {},
   "outputs": [
    {
     "name": "stderr",
     "output_type": "stream",
     "text": [
      "/var/folders/vw/75ns4gcj2pqgdh10pz8jrhjw0000gn/T/ipykernel_59788/1924482526.py:9: RuntimeWarning: k >= N for N * N square matrix. Attempting to use scipy.linalg.eigh instead.\n",
      "  pl.smallest_eigenvalue(\n"
     ]
    },
    {
     "data": {
      "text/plain": [
       "{1: {(0, 0): []}}"
      ]
     },
     "execution_count": 1,
     "metadata": {},
     "output_type": "execute_result"
    }
   ],
   "source": [
    "import persistent_laplacians.persistent_laplacians as pl\n",
    "from persistent_laplacians.cubical_complexes import get_filtration_data \n",
    "import numpy as np\n",
    "np.random.seed(42)\n",
    "image = np.random.rand(1, 1)\n",
    "\n",
    "boundary_matrices, boundary_maps_index_dict, _ = get_filtration_data(image)\n",
    "\n",
    "pl.smallest_eigenvalue(\n",
    "    boundary_matrices,\n",
    "    boundary_maps_index_dict,\n",
    "    zero_tol=1e-6,\n",
    "    use_scipy=True,\n",
    "    use_stepwise_schur=False,\n",
    ")"
   ]
  },
  {
   "cell_type": "code",
   "execution_count": 2,
   "metadata": {},
   "outputs": [],
   "source": [
    "from sklearn.datasets import fetch_openml\n",
    "import numpy as np\n",
    "x, y = fetch_openml('mnist_784', version=1, return_X_y=True, as_frame=False)\n",
    "num_samples = 50\n",
    "x = x[:num_samples].reshape(-1, 28, 28).astype(np.float32) / 255.0\n",
    "y = y[:num_samples].astype(np.uint8)\n",
    "\n",
    "dataset = list(zip(x, y))"
   ]
  },
  {
   "cell_type": "code",
   "execution_count": 15,
   "metadata": {},
   "outputs": [],
   "source": [
    "import persistent_laplacians.persistent_laplacians as pl\n",
    "from persistent_laplacians.cubical_complexes import get_filtration_data \n",
    "import numpy as np\n",
    "\n",
    "def get_nonpersistent_eigenvalues_from_image(image):\n",
    "    boundary_matrices, boundary_maps_index_dict, subsampled_filtration_indices = get_filtration_data(image, num_indices=4)\n",
    "    result = pl.smallest_eigenvalue(\n",
    "        boundary_matrices,\n",
    "        boundary_maps_index_dict,\n",
    "        filtration_subsampling=subsampled_filtration_indices,\n",
    "        zero_tol=1e-6,\n",
    "        use_scipy=True,\n",
    "        use_stepwise_schur=True,\n",
    "    )\n",
    "    print(result)\n",
    "    # Filter result to nonpersistent dim 1 features\n",
    "    nonpersistent_dim1 = [\n",
    "        (k[0], v)\n",
    "        for k, v in result[1].items()\n",
    "        if k[0] == k[1]\n",
    "    ]\n",
    "    nonpersistent_dim1.sort(key=lambda x: x[0])\n",
    "    # Return first element of each or zero if missing\n",
    "    return np.array([vec[0] if vec else 0 for _, vec in nonpersistent_dim1])"
   ]
  },
  {
   "cell_type": "code",
   "execution_count": 16,
   "metadata": {},
   "outputs": [
    {
     "name": "stdout",
     "output_type": "stream",
     "text": [
      "{1: {(28, 84): [0.016964610940348807], (28, 56): [0.016964610940348807], (0, 84): [0.01653685476973387], (0, 28): [0.01653685476973387], (0, 0): [0.01653685476973387], (56, 56): [0.01877398922800754], (28, 28): [0.016964610940348807], (84, 84): [0.011724085691280745], (0, 56): [0.01653685476973387], (56, 84): [0.01877398922800754]}}\n"
     ]
    },
    {
     "data": {
      "text/plain": [
       "array([0.01653685, 0.01696461, 0.01877399, 0.01172409])"
      ]
     },
     "execution_count": 16,
     "metadata": {},
     "output_type": "execute_result"
    }
   ],
   "source": [
    "get_nonpersistent_eigenvalues_from_image(x[0])  # Example for the first image"
   ]
  },
  {
   "cell_type": "code",
   "execution_count": 11,
   "metadata": {},
   "outputs": [
    {
     "name": "stdout",
     "output_type": "stream",
     "text": [
      "Cross-validated accuracies: [0.1, 0.3, 0.1, 0.3, 0.2]\n",
      "Mean accuracy: 0.200 ± 0.089\n"
     ]
    }
   ],
   "source": [
    "from data_analysis.cross_validation import run_cross_validation\n",
    "\n",
    "accuracies_nonpersistent = run_cross_validation(\n",
    "    dataset=dataset,\n",
    "    feature_extractor=get_nonpersistent_eigenvalues_from_image,\n",
    "    n_splits=5,\n",
    "    random_state=42\n",
    ")\n",
    "\n",
    "mean_acc = np.mean(accuracies_nonpersistent)\n",
    "std_acc = np.std(accuracies_nonpersistent)\n",
    "print(f\"Cross-validated accuracies: {accuracies_nonpersistent}\")\n",
    "print(f\"Mean accuracy: {mean_acc:.3f} ± {std_acc:.3f}\")"
   ]
  }
 ],
 "metadata": {
  "kernelspec": {
   "display_name": ".venv",
   "language": "python",
   "name": "python3"
  },
  "language_info": {
   "codemirror_mode": {
    "name": "ipython",
    "version": 3
   },
   "file_extension": ".py",
   "mimetype": "text/x-python",
   "name": "python",
   "nbconvert_exporter": "python",
   "pygments_lexer": "ipython3",
   "version": "3.10.15"
  }
 },
 "nbformat": 4,
 "nbformat_minor": 2
}
