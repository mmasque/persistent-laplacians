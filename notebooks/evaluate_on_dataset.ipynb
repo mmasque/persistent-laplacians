{
 "cells": [
  {
   "cell_type": "markdown",
   "metadata": {},
   "source": [
    "# Can the spectral gap of a filtration classify topological spaces? "
   ]
  },
  {
   "cell_type": "markdown",
   "metadata": {},
   "source": [
    "In this notebook I assess whether the smallest nonzero eigenvalues obtained from a filtration of point-cloud data can be used to classify it. \n",
    "The goal is to distinguish between pointclounds of $S^2$ and a 'swiss roll', which is homeomorphic to the unit square $I^2$.\n",
    "\n",
    "1. For each of the two spaces, 50 datasets with 50 noisy points in each are generated. \n",
    "2. A filtration is generated from the data using Gudhi's implementation of Alpha complexes.\n",
    "3. 20 uniformly spaced indices $I$ in the filtration are selected, and for each of the approximately 200 simplicial complex pairs $(i, j) \\in I^2$ the smallest nonzero eigenvalue $\\lambda^q_{i,j}$ of the persistent Laplacian is computed at each simplicial complex dimension $q$. \n",
    "4. A Logistic regression model is trained using the nonpersistent eigenvalues in dimension 1: $(\\lambda^1_{i,i})_{i \\in I}$. This is the _non-persistent_ model.\n",
    "5. A Logistic regression model is trained using the eigenvalues in dimension 1: $(\\lambda^1_{i,j})_{(i,j) \\in I^2}$. This is the _persistent_ model.\n",
    "6. A paired t-test is run to assess whether the persistent model performs differently than the non-persistent model. "
   ]
  },
  {
   "cell_type": "markdown",
   "metadata": {},
   "source": [
    "## Generate data"
   ]
  },
  {
   "cell_type": "code",
   "execution_count": 1,
   "metadata": {},
   "outputs": [],
   "source": [
    "import tadasets\n",
    "dataset = [(tadasets.dsphere(n=50, d=2, r=2, noise=0.1, seed=i), 0) for i in range(50)] + [(tadasets.swiss_roll(n=50, r=2, noise=0.1, seed=i), 1) for i in range(50)]"
   ]
  },
  {
   "cell_type": "markdown",
   "metadata": {},
   "source": [
    "## Cross-validation scaffolding"
   ]
  },
  {
   "cell_type": "code",
   "execution_count": 2,
   "metadata": {},
   "outputs": [],
   "source": [
    "from data_analysis.cross_validation import run_cross_validation"
   ]
  },
  {
   "cell_type": "markdown",
   "metadata": {},
   "source": [
    "## Nonpersistent smallest nonzero eigenvalue "
   ]
  },
  {
   "cell_type": "code",
   "execution_count": 3,
   "metadata": {},
   "outputs": [],
   "source": [
    "from persistent_laplacians.eigenvalues import compute_eigenvalues\n",
    "import numpy as np\n",
    "def extract_nonpersistent_feature(data):\n",
    "    result = compute_eigenvalues(\n",
    "        data,\n",
    "        num_indices=20,\n",
    "        use_scipy=True,\n",
    "        use_stepwise_schur=True,\n",
    "        zero_tol=1e-6\n",
    "    )\n",
    "    # Filter result to nonpersistent dim 2 features\n",
    "    nonpersistent_dim2 = [\n",
    "        (k[0], v)\n",
    "        for k, v in result[2].items()\n",
    "        if k[0] == k[1]\n",
    "    ]\n",
    "    nonpersistent_dim2.sort(key=lambda x: x[0])\n",
    "    # Return first element of each or zero if missing\n",
    "    return np.array([vec[0] if vec else 0 for _, vec in nonpersistent_dim2])"
   ]
  },
  {
   "cell_type": "code",
   "execution_count": 4,
   "metadata": {},
   "outputs": [
    {
     "name": "stderr",
     "output_type": "stream",
     "text": [
      "/home/marmas/personal/repos/persistent-laplacians/python/persistent_laplacians/eigenvalues.py:12: RuntimeWarning: k >= N for N * N square matrix. Attempting to use scipy.linalg.eigh instead.\n",
      "  return pl.smallest_eigenvalue(\n"
     ]
    },
    {
     "name": "stdout",
     "output_type": "stream",
     "text": [
      "Cross-validated accuracies: [1.0, 1.0, 1.0, 1.0, 1.0]\n",
      "Mean accuracy: 1.000 ± 0.000\n"
     ]
    }
   ],
   "source": [
    "accuracies_nonpersistent = run_cross_validation(\n",
    "    dataset=dataset,\n",
    "    feature_extractor=extract_nonpersistent_feature,\n",
    "    n_splits=5,\n",
    "    random_state=42\n",
    ")\n",
    "\n",
    "mean_acc = np.mean(accuracies_nonpersistent)\n",
    "std_acc = np.std(accuracies_nonpersistent)\n",
    "print(f\"Cross-validated accuracies: {accuracies_nonpersistent}\")\n",
    "print(f\"Mean accuracy: {mean_acc:.3f} ± {std_acc:.3f}\")"
   ]
  },
  {
   "cell_type": "markdown",
   "metadata": {},
   "source": [
    "## Persistent smallest eigenvalue "
   ]
  },
  {
   "cell_type": "code",
   "execution_count": 5,
   "metadata": {},
   "outputs": [],
   "source": [
    "from persistent_laplacians.eigenvalues import compute_eigenvalues\n",
    "import numpy as np\n",
    "def extract_persistent_feature(data):\n",
    "    result = compute_eigenvalues(\n",
    "        data,\n",
    "        num_indices=20,\n",
    "        use_scipy=True,\n",
    "        use_stepwise_schur=True,\n",
    "        zero_tol=1e-6\n",
    "    )\n",
    "    dim1_result = [x for x in result[1].items()]\n",
    "    dim1_result.sort(key=lambda x: x[1])\n",
    "    dim1_result.sort(key=lambda x: x[0])\n",
    "    # Return first element of each or zero if missing\n",
    "    return np.array([vec[0] if vec else 0 for _, vec in dim1_result])"
   ]
  },
  {
   "cell_type": "code",
   "execution_count": 6,
   "metadata": {},
   "outputs": [
    {
     "name": "stderr",
     "output_type": "stream",
     "text": [
      "/home/marmas/personal/repos/persistent-laplacians/python/persistent_laplacians/eigenvalues.py:12: RuntimeWarning: k >= N for N * N square matrix. Attempting to use scipy.linalg.eigh instead.\n",
      "  return pl.smallest_eigenvalue(\n"
     ]
    }
   ],
   "source": [
    "import numpy as np\n",
    "accuracies_persistent = run_cross_validation(\n",
    "    dataset=dataset,\n",
    "    feature_extractor=extract_persistent_feature,\n",
    "    classifier=None,\n",
    "    n_splits=5,\n",
    "    random_state=42\n",
    ")\n",
    "\n",
    "mean_acc = np.mean(accuracies_persistent)\n",
    "std_acc = np.std(accuracies_persistent)\n",
    "print(f\"Cross-validated accuracies: {accuracies_persistent}\")\n",
    "print(f\"Mean accuracy: {mean_acc:.3f} ± {std_acc:.3f}\")"
   ]
  },
  {
   "cell_type": "markdown",
   "metadata": {},
   "source": [
    "## Paired t-test"
   ]
  },
  {
   "cell_type": "code",
   "execution_count": 7,
   "metadata": {},
   "outputs": [
    {
     "name": "stdout",
     "output_type": "stream",
     "text": [
      "paired t-test p = 0.374\n"
     ]
    }
   ],
   "source": [
    "from scipy.stats import ttest_rel\n",
    "\n",
    "# Paired t-test\n",
    "t_stat, p_val = ttest_rel(accuracies_persistent, accuracies_nonpersistent)\n",
    "print(f\"paired t-test p = {p_val:.3f}\")"
   ]
  }
 ],
 "metadata": {
  "kernelspec": {
   "display_name": ".venv",
   "language": "python",
   "name": "python3"
  },
  "language_info": {
   "codemirror_mode": {
    "name": "ipython",
    "version": 3
   },
   "file_extension": ".py",
   "mimetype": "text/x-python",
   "name": "python",
   "nbconvert_exporter": "python",
   "pygments_lexer": "ipython3",
   "version": "3.11.12"
  }
 },
 "nbformat": 4,
 "nbformat_minor": 2
}
