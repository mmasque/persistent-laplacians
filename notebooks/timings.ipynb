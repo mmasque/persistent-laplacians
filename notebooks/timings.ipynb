{
 "cells": [
  {
   "cell_type": "code",
   "execution_count": null,
   "metadata": {},
   "outputs": [
    {
     "name": "stdout",
     "output_type": "stream",
     "text": [
      "No data for (d, m)\n",
      "No data for (d, e)\n",
      "No data for (u, m)\n",
      "No data for (u, e)\n"
     ]
    }
   ],
   "source": [
    "import pandas as pd\n",
    "import matplotlib.pyplot as plt\n",
    "\n",
    "# Load the data\n",
    "df = pd.read_csv(\n",
    "    'timings_2.csv',\n",
    "    header=None,\n",
    "    names=['option1', 'option2', 'x', 'y', 'time']\n",
    ")\n",
    "\n",
    "# Cast types\n",
    "df['x'] = df['x'].astype(int)\n",
    "df['y'] = df['y'].astype(int)\n",
    "df['time'] = df['time'].astype(float)\n",
    "\n",
    "# Define the four (option1, option2) pairs\n",
    "combinations = [('d', 'm'), ('d', 'e'), ('u', 'm'), ('u', 'e')]\n",
    "\n",
    "for opt1, opt2 in combinations:\n",
    "    subset = df[(df['option1'] == opt1) & (df['option2'] == opt2)]\n",
    "    if subset.empty:\n",
    "        print(f\"No data for ({opt1}, {opt2})\")\n",
    "        continue\n",
    "\n",
    "    # Sum times\n",
    "    total = subset['time'].sum()\n",
    "\n",
    "    # Pivot into a 2D grid: rows = y, columns = x\n",
    "    pivot = subset.pivot(index='y', columns='x', values='time')\n",
    "\n",
    "    plt.figure()\n",
    "    plt.imshow(pivot.values, origin='lower', aspect='auto')\n",
    "    plt.title(f'Heatmap for {opt1},{opt2} — Total time: {total:.6f} s')\n",
    "    plt.xlabel('X Coordinate')\n",
    "    plt.ylabel('Y Coordinate')\n",
    "    plt.colorbar(label='Time (s)')\n",
    "    plt.tight_layout()\n",
    "    plt.show()\n"
   ]
  },
  {
   "cell_type": "code",
   "execution_count": 2,
   "metadata": {},
   "outputs": [
    {
     "name": "stdout",
     "output_type": "stream",
     "text": [
      "No files matching timings_*_*.csv in cwd: /Users/marcelmasque/University/other/persistent_laplacians/notebooks\n"
     ]
    }
   ],
   "source": [
    "import glob\n",
    "import os\n",
    "import pandas as pd\n",
    "import matplotlib.pyplot as plt \n",
    "\n",
    "def plot_timings(pattern=\"timings_*_*.csv\", step_col=\"step\", time_col=\"time_s\"):\n",
    "    files = glob.glob(pattern)\n",
    "    if not files:\n",
    "        print(f\"No files matching {pattern} in cwd: {os.getcwd()}\")\n",
    "        return\n",
    "\n",
    "    df_list = []\n",
    "    per_file_totals = {}\n",
    "\n",
    "    for fn in sorted(files):\n",
    "        if os.path.getsize(fn) == 0:\n",
    "            print(f\"Skipping empty file: {fn}\")\n",
    "            continue\n",
    "        try:\n",
    "            tmp = pd.read_csv(fn)\n",
    "        except pd.errors.EmptyDataError:\n",
    "            print(f\"Skipping empty (no data): {fn}\")\n",
    "            continue\n",
    "        if step_col not in tmp or time_col not in tmp:\n",
    "            print(f\"Skipping {fn}: missing columns {step_col},{time_col}\")\n",
    "            continue\n",
    "\n",
    "        # sum per step in this file\n",
    "        file_totals = tmp.groupby(step_col)[time_col].sum().reset_index()\n",
    "        per_file_totals[fn] = file_totals\n",
    "        df_list.append(tmp[[step_col, time_col]])\n",
    "\n",
    "    if not df_list:\n",
    "        print(\"No valid timing data found.\")\n",
    "        return\n",
    "\n",
    "    # overall aggregation\n",
    "    all_df = pd.concat(df_list, ignore_index=True)\n",
    "    aggregated = all_df.groupby(step_col)[time_col].sum().reset_index()\n",
    "\n",
    "    # plot each file\n",
    "    for fn, df_totals in per_file_totals.items():\n",
    "        plt.figure(figsize=(6,4))\n",
    "        plt.bar(df_totals[step_col], df_totals[time_col])\n",
    "        plt.title(f\"Per-file totals: {fn}\")\n",
    "        plt.xlabel(\"Step\")\n",
    "        plt.ylabel(\"Total Time (s)\")\n",
    "        plt.xticks(rotation=45, ha=\"right\")\n",
    "        plt.tight_layout()\n",
    "        plt.show()\n",
    "    \n",
    "    # plot aggregated\n",
    "    plt.figure(figsize=(6,4))\n",
    "    plt.bar(aggregated[step_col], aggregated[time_col])\n",
    "    plt.title(\"Aggregated totals across all files\")\n",
    "    plt.xlabel(\"Step\")\n",
    "    plt.ylabel(\"Total Time (s)\")\n",
    "    plt.xticks(rotation=45, ha=\"right\")\n",
    "    plt.tight_layout()\n",
    "    plt.show()\n",
    "\n",
    "# call it\n",
    "plot_timings()\n"
   ]
  },
  {
   "cell_type": "markdown",
   "metadata": {},
   "source": [
    "# How fast is primme, how fast is scipy?"
   ]
  },
  {
   "cell_type": "code",
   "execution_count": 3,
   "metadata": {},
   "outputs": [
    {
     "name": "stdout",
     "output_type": "stream",
     "text": [
      "SciPy:    λ_min = 1.22729321e-04, time = 0.0897 s\n"
     ]
    }
   ],
   "source": [
    "import time\n",
    "import numpy as np\n",
    "import scipy.sparse as sp\n",
    "from scipy.sparse.linalg import eigsh as scipy_eigsh\n",
    "import primme\n",
    "\n",
    "def make_sparse_symm(n, density=0.005, random_state=42):\n",
    "    rng = np.random.default_rng(random_state)\n",
    "    # generate random sparse matrix\n",
    "    rvs = rng.standard_normal\n",
    "    A = sp.random(n, n, density=density, data_rvs=rvs, random_state=rng, format='csr')\n",
    "    # symmetrize\n",
    "    A = (A + A.T) / 2\n",
    "    return A\n",
    "\n",
    "def compute_with_primme(A):\n",
    "    # PRIMME: compute 1 smallest algebraic eigenvalue\n",
    "    start = time.perf_counter()\n",
    "    vals, vecs, info = primme.eigsh(A, k=1, which='SM', return_stats=True)\n",
    "    elapsed = time.perf_counter() - start\n",
    "    return float(vals[0]), elapsed\n",
    "\n",
    "def compute_with_scipy(A):\n",
    "    # SciPy: shift-invert to get smallest eigenvalue (sigma=0)\n",
    "    start = time.perf_counter()\n",
    "    vals, vecs = scipy_eigsh(A, k=1, sigma=0.0001, which='LM')\n",
    "    elapsed = time.perf_counter() - start\n",
    "    return float(vals[0]), elapsed\n",
    "\n",
    "# create test matrix\n",
    "n = 2000\n",
    "A = make_sparse_symm(n, density=0.001)\n",
    "\n",
    "# run PRIMME\n",
    "# primme_val, primme_time = compute_with_primme(A)\n",
    "# print(f\"PRIMME:   λ_min = {primme_val:.8e}, time = {primme_time:.4f} s\")\n",
    "\n",
    "# run SciPy\n",
    "scipy_val, scipy_time = compute_with_scipy(A)\n",
    "print(f\"SciPy:    λ_min = {scipy_val:.8e}, time = {scipy_time:.4f} s\")\n"
   ]
  }
 ],
 "metadata": {
  "kernelspec": {
   "display_name": ".venv",
   "language": "python",
   "name": "python3"
  },
  "language_info": {
   "codemirror_mode": {
    "name": "ipython",
    "version": 3
   },
   "file_extension": ".py",
   "mimetype": "text/x-python",
   "name": "python",
   "nbconvert_exporter": "python",
   "pygments_lexer": "ipython3",
   "version": "3.10.15"
  }
 },
 "nbformat": 4,
 "nbformat_minor": 2
}
