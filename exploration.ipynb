{
 "cells": [
  {
   "cell_type": "markdown",
   "metadata": {},
   "source": [
    "## Get a filtration from Gudhi"
   ]
  },
  {
   "cell_type": "code",
   "execution_count": 6,
   "metadata": {},
   "outputs": [],
   "source": [
    "import gudhi as gd\n",
    "import tadasets\n",
    "sphere = tadasets.dsphere(n=10, d=1, r=1, noise=0, seed=42)\n",
    "alpha = gd.AlphaComplex(points=sphere)\n",
    "st = alpha.create_simplex_tree()\n",
    "filtration = list(st.get_filtration())"
   ]
  },
  {
   "cell_type": "markdown",
   "metadata": {},
   "source": [
    "## Convert it to boundary map data"
   ]
  },
  {
   "cell_type": "code",
   "execution_count": 7,
   "metadata": {},
   "outputs": [],
   "source": [
    "from persistent_laplacians.filtrations import simplices_by_dimension, compute_boundary_matrices, filtration_hash_map\n",
    "\n",
    "unique_filtration_values = sorted(list(set([f for (_, f) in filtration])))\n",
    "simplices_by_dim, simplices_by_dim_only_filt = simplices_by_dimension(filtration)\n",
    "boundary_matrices = compute_boundary_matrices(simplices_by_dim)\n",
    "boundary_maps_index_dict = filtration_hash_map(filtration, simplices_by_dim_only_filt)"
   ]
  },
  {
   "cell_type": "markdown",
   "metadata": {},
   "source": [
    "## Compute homology using persistent laplacians\n",
    "For now, compute only homology (using SVD)"
   ]
  },
  {
   "cell_type": "code",
   "execution_count": 8,
   "metadata": {},
   "outputs": [],
   "source": [
    "from persistent_laplacians import persistent_laplacians as pl\n",
    "result = pl.process_tda(\n",
    "    boundary_matrices,\n",
    "    boundary_maps_index_dict\n",
    ")"
   ]
  },
  {
   "cell_type": "markdown",
   "metadata": {},
   "source": [
    "## Barcodes "
   ]
  },
  {
   "cell_type": "code",
   "execution_count": 9,
   "metadata": {},
   "outputs": [
    {
     "name": "stdout",
     "output_type": "stream",
     "text": [
      "{2: {}, 1: {(14, 15): 1, (10, 16): 1, (12, 13): 1, (14, 16): 1}}\n"
     ]
    },
    {
     "data": {
      "text/plain": [
       "[(1, (0.3065431994272291, 1.0)),\n",
       " (1, (0.9999999999999953, 0.9999999999999973)),\n",
       " (1, (0.9999999999999996, 0.9999999999999997)),\n",
       " (1, (0.9999999999999996, 1.0))]"
      ]
     },
     "execution_count": 9,
     "metadata": {},
     "output_type": "execute_result"
    }
   ],
   "source": [
    "from persistent_laplacians.barcodes import compute_barcodes\n",
    "barcodes = compute_barcodes(result, unique_filtration_values)\n",
    "print(barcodes)\n",
    "barcodes = [\n",
    "    (q, (unique_filtration_values[i], unique_filtration_values[j]))\n",
    "    for q in barcodes.keys()\n",
    "    for (i, j) in barcodes[q].keys()\n",
    "]\n",
    "sorted(barcodes)"
   ]
  },
  {
   "cell_type": "markdown",
   "metadata": {},
   "source": [
    "## Verify with Gudhi"
   ]
  },
  {
   "cell_type": "code",
   "execution_count": 10,
   "metadata": {},
   "outputs": [
    {
     "data": {
      "text/plain": [
       "True"
      ]
     },
     "execution_count": 10,
     "metadata": {},
     "output_type": "execute_result"
    }
   ],
   "source": [
    "gudhi_persistence = [(q, (i, j)) for (q, (i,j)) in st.persistence() if q > 0]\n",
    "sorted(gudhi_persistence) == sorted(barcodes)"
   ]
  }
 ],
 "metadata": {
  "kernelspec": {
   "display_name": ".venv",
   "language": "python",
   "name": "python3"
  },
  "language_info": {
   "codemirror_mode": {
    "name": "ipython",
    "version": 3
   },
   "file_extension": ".py",
   "mimetype": "text/x-python",
   "name": "python",
   "nbconvert_exporter": "python",
   "pygments_lexer": "ipython3",
   "version": "3.10.15"
  }
 },
 "nbformat": 4,
 "nbformat_minor": 2
}
