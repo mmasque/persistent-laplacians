{
 "cells": [
  {
   "cell_type": "markdown",
   "metadata": {},
   "source": [
    "## Get a filtration from Gudhi"
   ]
  },
  {
   "cell_type": "code",
   "execution_count": 1,
   "metadata": {},
   "outputs": [],
   "source": [
    "import gudhi as gd\n",
    "import tadasets\n",
    "sphere = tadasets.dsphere(n=30, d=2, r=1, noise=0, seed=42)\n",
    "alpha = gd.AlphaComplex(points=sphere)\n",
    "st = alpha.create_simplex_tree()\n",
    "filtration = list(st.get_filtration())"
   ]
  },
  {
   "cell_type": "markdown",
   "metadata": {},
   "source": [
    "## Convert it to boundary map data"
   ]
  },
  {
   "cell_type": "code",
   "execution_count": 2,
   "metadata": {},
   "outputs": [],
   "source": [
    "from src.filtrations import simplices_by_dimension, compute_boundary_matrices, filtration_hash_map\n",
    "\n",
    "unique_filtration_values = sorted(list(set([f for (_, f) in filtration])))\n",
    "simplices_by_dim, simplices_by_dim_only_filt = simplices_by_dimension(filtration)\n",
    "boundary_matrices = compute_boundary_matrices(simplices_by_dim)\n",
    "boundary_maps_index_dict = filtration_hash_map(filtration, simplices_by_dim_only_filt)"
   ]
  },
  {
   "cell_type": "markdown",
   "metadata": {},
   "source": [
    "## Compute homology using persistent laplacians\n",
    "For now, compute only first homology.\n",
    "Lanczos library panics on diagonal matrices it seems."
   ]
  },
  {
   "cell_type": "code",
   "execution_count": 3,
   "metadata": {},
   "outputs": [],
   "source": [
    "import persistent_laplacians\n",
    "result = persistent_laplacians.process_tda(\n",
    "    boundary_matrices,\n",
    "    boundary_maps_index_dict\n",
    ")"
   ]
  },
  {
   "cell_type": "markdown",
   "metadata": {},
   "source": [
    "## Barcodes "
   ]
  },
  {
   "cell_type": "code",
   "execution_count": 4,
   "metadata": {},
   "outputs": [
    {
     "name": "stdout",
     "output_type": "stream",
     "text": [
      "{2: {(131, 133): 1, (133, 135): 1, (131, 137): 1, (126, 138): 1, (126, 129): 1, (120, 139): 1, (106, 140): 1}, 1: {(99, 100): 1, (59, 60): 1, (50, 52): 1, (74, 75): 1, (36, 37): 1, (9, 14): 1, (81, 88): 1, (68, 79): 1, (17, 18): 1, (32, 34): 1, (12, 19): 1, (85, 86): 1, (69, 70): 1, (54, 97): 1, (64, 101): 1, (40, 45): 1, (41, 51): 1, (76, 77): 1, (80, 89): 1, (55, 61): 1, (62, 67): 1}, 3: {}}\n"
     ]
    },
    {
     "data": {
      "text/plain": [
       "[(1, (0.02546175064832349, 0.027562930776185896)),\n",
       " (1, (0.026800551472400735, 0.03112329831866171)),\n",
       " (1, (0.02906069519472558, 0.0292751263572475)),\n",
       " (1, (0.07867295640614468, 0.08458221447589057)),\n",
       " (1, (0.08694565715396549, 0.0869456580426308)),\n",
       " (1, (0.09115194518810042, 0.10539997067827911)),\n",
       " (1, (0.09571882287087163, 0.11643740730637718)),\n",
       " (1, (0.113321226926027, 0.11706756724000403)),\n",
       " (1, (0.12695150583184348, 0.3812157210058862)),\n",
       " (1, (0.13470690124391815, 0.1552750672070925)),\n",
       " (1, (0.1516271641567509, 0.1516427338878758)),\n",
       " (1, (0.15865363644614866, 0.18101916166066753)),\n",
       " (1, (0.17163697847394072, 0.4619707011897518)),\n",
       " (1, (0.19174794328725328, 0.25297922765318015)),\n",
       " (1, (0.1923996547957571, 0.1950190126995972)),\n",
       " (1, (0.21427641695380947, 0.21429864552772004)),\n",
       " (1, (0.22000470980115436, 0.2220132176376405)),\n",
       " (1, (0.2530665239584188, 0.3341025442401989)),\n",
       " (1, (0.25717912745174704, 0.3312652681257092)),\n",
       " (1, (0.29956537923025706, 0.30270646472564455)),\n",
       " (1, (0.4177413648892114, 0.4431463402790963)),\n",
       " (2, (0.669501213311584, 1.0000000000000064)),\n",
       " (2, (0.9999999999999971, 1.0000000000000009)),\n",
       " (2, (0.9999999999999986, 0.9999999999999989)),\n",
       " (2, (0.9999999999999986, 1.0)),\n",
       " (2, (0.9999999999999991, 0.9999999999999993)),\n",
       " (2, (0.9999999999999991, 0.9999999999999999)),\n",
       " (2, (0.9999999999999993, 0.9999999999999996))]"
      ]
     },
     "execution_count": 4,
     "metadata": {},
     "output_type": "execute_result"
    }
   ],
   "source": [
    "from src.barcodes import barcodes\n",
    "barcodes = barcodes(result, unique_filtration_values)\n",
    "print(barcodes)\n",
    "barcodes = [\n",
    "    (q, (unique_filtration_values[i], unique_filtration_values[j]))\n",
    "    for q in barcodes.keys()\n",
    "    for (i, j) in barcodes[q].keys()\n",
    "]\n",
    "sorted(barcodes)"
   ]
  },
  {
   "cell_type": "markdown",
   "metadata": {},
   "source": [
    "## Verify with Gudhi"
   ]
  },
  {
   "cell_type": "code",
   "execution_count": 6,
   "metadata": {},
   "outputs": [
    {
     "data": {
      "text/plain": [
       "True"
      ]
     },
     "execution_count": 6,
     "metadata": {},
     "output_type": "execute_result"
    }
   ],
   "source": [
    "gudhi_persistence = [(q, (i, j)) for (q, (i,j)) in st.persistence() if q > 0]\n",
    "sorted(gudhi_persistence) == sorted(barcodes)"
   ]
  }
 ],
 "metadata": {
  "kernelspec": {
   "display_name": ".venv",
   "language": "python",
   "name": "python3"
  },
  "language_info": {
   "codemirror_mode": {
    "name": "ipython",
    "version": 3
   },
   "file_extension": ".py",
   "mimetype": "text/x-python",
   "name": "python",
   "nbconvert_exporter": "python",
   "pygments_lexer": "ipython3",
   "version": "3.10.15"
  }
 },
 "nbformat": 4,
 "nbformat_minor": 2
}
