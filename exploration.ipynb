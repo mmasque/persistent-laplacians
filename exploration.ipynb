{
 "cells": [
  {
   "cell_type": "markdown",
   "metadata": {},
   "source": [
    "## First goal: getting a filtration from data using existing tools"
   ]
  },
  {
   "cell_type": "code",
   "execution_count": 1,
   "metadata": {},
   "outputs": [
    {
     "data": {
      "text/plain": [
       "[([0], 0.0),\n",
       " ([1], 0.0),\n",
       " ([2], 0.0),\n",
       " ([3], 0.0),\n",
       " ([4], 0.0),\n",
       " ([5], 0.0),\n",
       " ([6], 0.0),\n",
       " ([7], 0.0),\n",
       " ([8], 0.0),\n",
       " ([9], 0.0),\n",
       " ([1, 4], 0.17754189897452063),\n",
       " ([2, 9], 0.21634092984513148),\n",
       " ([0, 5], 0.38923828215719697),\n",
       " ([7, 8], 0.41396983569751816),\n",
       " ([0, 2], 0.4661799103760069),\n",
       " ([3, 5], 0.5023505306539154),\n",
       " ([6, 9], 0.5495225977381791),\n",
       " ([0, 9], 0.6333165887886936),\n",
       " ([0, 2, 9], 0.6333165887886936),\n",
       " ([6, 7], 0.6425919981558038),\n",
       " ([2, 6], 0.6593268580042558),\n",
       " ([2, 6, 9], 0.6593268580042558),\n",
       " ([2, 5], 0.7151393818521594),\n",
       " ([0, 2, 5], 0.7151393818521594),\n",
       " ([0, 3], 0.8914484342095101),\n",
       " ([0, 3, 5], 0.8914484342095101),\n",
       " ([5, 9], 0.9240228333721356),\n",
       " ([0, 5, 9], 0.9240228333721356),\n",
       " ([2, 5, 9], 0.9240228333721356)]"
      ]
     },
     "execution_count": 1,
     "metadata": {},
     "output_type": "execute_result"
    },
    {
     "data": {
      "image/png": "[encoded data removed]",
      "text/plain": [
       "<Figure size 640x480 with 1 Axes>"
      ]
     },
     "metadata": {},
     "output_type": "display_data"
    }
   ],
   "source": [
    "import numpy as np\n",
    "import gudhi as gd\n",
    "import tadasets\n",
    "import matplotlib.pyplot as plt\n",
    "sphere = tadasets.dsphere(n=10, d=1, noise=0.1)\n",
    "plt.scatter(sphere[:,0], sphere[:,1], s=1)\n",
    "for i, (x, y) in enumerate(sphere):\n",
    "    plt.text(x, y, str(i), fontsize=12, ha='center', va='center')\n",
    "\n",
    "rips = gd.RipsComplex(points=sphere, max_edge_length=1.0)\n",
    "st = rips.create_simplex_tree(max_dimension=2)\n",
    "st.compute_persistence()\n",
    "filtration = list(st.get_filtration())\n",
    "\n",
    "filtration"
   ]
  },
  {
   "cell_type": "code",
   "execution_count": 9,
   "metadata": {},
   "outputs": [
    {
     "data": {
      "text/plain": [
       "{'n_rows': 6,\n",
       " 'n_cols': 3,\n",
       " 'data': [1, -1, 1, 1, -1, 1, 1, -1, 1],\n",
       " 'rows': [0, 1, 2, 0, 5, 4, 1, 5, 3],\n",
       " 'cols': [0, 0, 0, 1, 1, 1, 2, 2, 2]}"
      ]
     },
     "execution_count": 9,
     "metadata": {},
     "output_type": "execute_result"
    }
   ],
   "source": [
    "import numpy as np\n",
    "from scipy.sparse import coo_matrix\n",
    "\n",
    "# For now, this is slow. Probably want to move this to the Rust component, and pass the simplices directly at some point.\n",
    "def compute_boundary_matrices(simplices):\n",
    "    \"\"\"\n",
    "    Compute boundary matrices for a simplicial complex.\n",
    "\n",
    "    Parameters:\n",
    "    simplices (dict): Dictionary where keys are dimensions (int) and values are lists of tuples representing simplices.\n",
    "\n",
    "    Returns:\n",
    "    dict: Dictionary where keys are dimensions and values are NumPy arrays representing boundary matrices.\n",
    "    \"\"\"\n",
    "\n",
    "    # Determine the maximum dimension\n",
    "    max_dim = max(simplices.keys())\n",
    "\n",
    "    # Create index mappings for each dimension\n",
    "    index_maps = {\n",
    "        dim: {simplex: idx for idx, simplex in enumerate(simplices[dim])}\n",
    "        for dim in simplices\n",
    "    }\n",
    "\n",
    "    # Compute boundary matrices\n",
    "    boundary_matrices = {}\n",
    "    for dim in range(1, max_dim + 1):\n",
    "        higher_simplices = simplices.get(dim, [])\n",
    "        lower_simplices = simplices.get(dim - 1, [])\n",
    "        lower_index_map = index_maps.get(dim - 1, {})\n",
    "\n",
    "        rows = [] \n",
    "        cols = []\n",
    "        data = []\n",
    "        # for each of the higher simplices\n",
    "        for col, simplex in enumerate(higher_simplices):\n",
    "            # for each of the vertices of the simplex\n",
    "            for i, _ in enumerate(simplex):\n",
    "                # get face missing this index\n",
    "                face = simplex[:i] + simplex[i+1:]\n",
    "                # since this is a simplicial complex, the face is in the lower simplices\n",
    "                row = lower_index_map.get(face)\n",
    "                rows.append(row)\n",
    "                cols.append(col)\n",
    "                data.append((-1) ** i)\n",
    "        \n",
    "        # create sparse matrix\n",
    "        n_rows = len(lower_simplices)\n",
    "        n_cols = len(higher_simplices)\n",
    "        boundary_matrices[dim] = {\"n_rows\": n_rows, \"n_cols\": n_cols, \"data\": data, \"rows\": rows, \"cols\": cols}\n",
    "\n",
    "    return boundary_matrices\n",
    "\n",
    "# example sanity check (triangle with point in middle)\n",
    "simplices = {0: [(0,), (1, ), (2, ), (3,)], 1: [(2,3), (1,3), (1,2), (0,1), (0,2), (0,3)], 2: [(1,2,3), (0,2,3), (0,1,3)]}\n",
    "bs = compute_boundary_matrices(simplices)\n",
    "bs[2]"
   ]
  },
  {
   "cell_type": "code",
   "execution_count": 7,
   "metadata": {},
   "outputs": [],
   "source": [
    "from collections import defaultdict\n",
    "# 1. Create the global boundary map\n",
    "simplices_by_dim = defaultdict(list)\n",
    "simplices_by_dim_only_filt = defaultdict(list)\n",
    "for (simplex, filt_value) in filtration:\n",
    "    dim = len(simplex) - 1\n",
    "    simplices_by_dim[dim].append(tuple(sorted(simplex)))\n",
    "    simplices_by_dim_only_filt[dim].append(filt_value)\n",
    "b = compute_boundary_matrices(simplices_by_dim)"
   ]
  },
  {
   "cell_type": "code",
   "execution_count": 8,
   "metadata": {},
   "outputs": [
    {
     "name": "stdout",
     "output_type": "stream",
     "text": [
      "defaultdict(<class 'list'>, {0: [0.0, 0.0, 0.0, 0.0, 0.0, 0.0, 0.0, 0.0, 0.0, 0.0], 1: [0.17754189897452063, 0.21634092984513148, 0.38923828215719697, 0.41396983569751816, 0.4661799103760069, 0.5023505306539154, 0.5495225977381791, 0.6333165887886936, 0.6425919981558038, 0.6593268580042558, 0.7151393818521594, 0.8914484342095101, 0.9240228333721356], 2: [0.6333165887886936, 0.6593268580042558, 0.7151393818521594, 0.8914484342095101, 0.9240228333721356, 0.9240228333721356]})\n",
      "{0: {0: 10, 1: 0, 2: 0}, 1: {0: 10, 1: 1, 2: 0}, 2: {0: 10, 1: 2, 2: 0}, 3: {0: 10, 1: 3, 2: 0}, 4: {0: 10, 1: 4, 2: 0}, 5: {0: 10, 1: 5, 2: 0}, 6: {0: 10, 1: 6, 2: 0}, 7: {0: 10, 1: 7, 2: 0}, 8: {0: 10, 1: 8, 2: 1}, 9: {0: 10, 1: 9, 2: 1}, 10: {0: 10, 1: 10, 2: 2}, 11: {0: 10, 1: 11, 2: 3}, 12: {0: 10, 1: 12, 2: 4}, 13: {0: 10, 1: 13, 2: 6}}\n"
     ]
    }
   ],
   "source": [
    "import bisect\n",
    "def max_index(lst, b):\n",
    "    # Find the insertion point for b to the right\n",
    "    idx = bisect.bisect_right(lst, b)\n",
    "    return idx \n",
    "unique_filtration_values = sorted(list(set([f for (_, f) in filtration])))\n",
    "print(simplices_by_dim_only_filt)\n",
    "# For each filtration value, get indices for the boundary map at that filtration value\n",
    "boundary_maps_index_dict = {filt_index: \n",
    "                                {  \n",
    "                                    key : max_index(filt_values, filt_value)\n",
    "                                    for key, filt_values in simplices_by_dim_only_filt.items()\n",
    "                                } \n",
    "                                for (filt_index, filt_value) in enumerate(unique_filtration_values)\n",
    "                            }\n",
    "\n",
    "print(boundary_maps_index_dict)"
   ]
  },
  {
   "cell_type": "markdown",
   "metadata": {},
   "source": [
    "## Second goal: implementation of the Schur's complement Persistent Laplacian solver for a filtration"
   ]
  },
  {
   "cell_type": "markdown",
   "metadata": {},
   "source": [
    "Assumption: the dimension of each $C_q^{d_i}$ increases by at most one with each increase in $i$.\n",
    "Then we can implement _Theorem 5.1_ from Memoli."
   ]
  },
  {
   "cell_type": "code",
   "execution_count": null,
   "metadata": {},
   "outputs": [
    {
     "name": "stdout",
     "output_type": "stream",
     "text": [
      "Rust returned: [150, 150]\n"
     ]
    }
   ],
   "source": [
    "import numpy as np\n",
    "import persistent_laplacians\n",
    "boundary_matrices = compute_boundary_matrices(simplices_by_dim)\n",
    "result = persistent_laplacians.process_tda(\n",
    "    boundary_matrices,\n",
    "    boundary_maps_index_dict\n",
    ")\n",
    "print(\"Rust returned:\", result)"
   ]
  },
  {
   "cell_type": "markdown",
   "metadata": {},
   "source": [
    "## Third goal: Eigenvalue computations"
   ]
  }
 ],
 "metadata": {
  "kernelspec": {
   "display_name": ".venv",
   "language": "python",
   "name": "python3"
  },
  "language_info": {
   "codemirror_mode": {
    "name": "ipython",
    "version": 3
   },
   "file_extension": ".py",
   "mimetype": "text/x-python",
   "name": "python",
   "nbconvert_exporter": "python",
   "pygments_lexer": "ipython3",
   "version": "3.10.15"
  }
 },
 "nbformat": 4,
 "nbformat_minor": 2
}
