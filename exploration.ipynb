{
 "cells": [
  {
   "cell_type": "markdown",
   "metadata": {},
   "source": [
    "## Get a filtration from Gudhi"
   ]
  },
  {
   "cell_type": "code",
   "execution_count": 12,
   "metadata": {},
   "outputs": [
    {
     "data": {
      "text/plain": [
       "[(1, (0.9050949522549336, 1.0548979477410552)),\n",
       " (1, (0.2180885959941969, 0.23058452848785793)),\n",
       " (1, (0.18707990250267736, 0.19435112548478917)),\n",
       " (1, (0.21913574782134182, 0.21951233503062645)),\n",
       " (0, (0.0, inf)),\n",
       " (0, (0.0, 0.7769946386599483)),\n",
       " (0, (0.0, 0.33093438869791814)),\n",
       " (0, (0.0, 0.1533883530553805)),\n",
       " (0, (0.0, 0.15276369011276486)),\n",
       " (0, (0.0, 0.09213436427251455)),\n",
       " (0, (0.0, 0.07525400502461241))]"
      ]
     },
     "execution_count": 12,
     "metadata": {},
     "output_type": "execute_result"
    }
   ],
   "source": [
    "import numpy as np\n",
    "import gudhi as gd\n",
    "import tadasets\n",
    "import matplotlib.pyplot as plt\n",
    "sphere = tadasets.dsphere(n=7, d=1, ambient=3, noise=0.5, seed=42)\n",
    "alpha = gd.AlphaComplex(points=sphere)\n",
    "st = alpha.create_simplex_tree()\n",
    "filtration = list(st.get_filtration())\n",
    "st.persistence()"
   ]
  },
  {
   "cell_type": "markdown",
   "metadata": {},
   "source": [
    "## Convert it to boundary map data"
   ]
  },
  {
   "cell_type": "code",
   "execution_count": null,
   "metadata": {},
   "outputs": [
    {
     "data": {
      "text/plain": [
       "{1: {'n_rows': 7,\n",
       "  'n_cols': 21,\n",
       "  'data': array([ 1., -1.,  1., -1.,  1., -1.,  1., -1.,  1., -1.,  1., -1.,  1.,\n",
       "         -1.,  1., -1.,  1., -1.,  1., -1.,  1., -1.,  1., -1.,  1., -1.,\n",
       "          1., -1.,  1., -1.,  1., -1.,  1., -1.,  1., -1.,  1., -1.,  1.,\n",
       "         -1.,  1., -1.]),\n",
       "  'rows': array([6, 5, 6, 0, 5, 2, 5, 4, 6, 4, 4, 0, 6, 2, 4, 1, 1, 0, 3, 0, 3, 1,\n",
       "         2, 0, 3, 2, 5, 1, 5, 0, 6, 1, 6, 3, 4, 2, 2, 1, 4, 3, 5, 3]),\n",
       "  'cols': array([ 0,  0,  1,  1,  2,  2,  3,  3,  4,  4,  5,  5,  6,  6,  7,  7,  8,\n",
       "          8,  9,  9, 10, 10, 11, 11, 12, 12, 13, 13, 14, 14, 15, 15, 16, 16,\n",
       "         17, 17, 18, 18, 19, 19, 20, 20])},\n",
       " 2: {'n_rows': 21,\n",
       "  'n_cols': 25,\n",
       "  'data': array([ 1., -1.,  1.,  1., -1.,  1.,  1., -1.,  1.,  1., -1.,  1.,  1.,\n",
       "         -1.,  1.,  1., -1.,  1.,  1., -1.,  1.,  1., -1.,  1.,  1., -1.,\n",
       "          1.,  1., -1.,  1.,  1., -1.,  1.,  1., -1.,  1.,  1., -1.,  1.,\n",
       "          1., -1.,  1.,  1., -1.,  1.,  1., -1.,  1.,  1., -1.,  1.,  1.,\n",
       "         -1.,  1.,  1., -1.,  1.,  1., -1.,  1.,  1., -1.,  1.,  1., -1.,\n",
       "          1.,  1., -1.,  1.,  1., -1.,  1.,  1., -1.,  1.]),\n",
       "  'rows': array([ 0,  4,  3,  0,  6,  2,  4,  1,  5,  7,  5,  8, 10,  9,  8,  6,  1,\n",
       "         11, 12,  9, 11,  3, 13,  7,  3, 14,  5,  0,  1, 14,  2, 14, 11, 15,\n",
       "          1,  8,  4, 15,  7, 16,  1,  9, 16, 15, 10,  3,  2, 17,  4,  6, 17,\n",
       "         16,  6, 12, 17,  7, 18,  6, 15, 18, 19,  5,  9, 19,  7, 10,  2, 13,\n",
       "         18, 20, 14,  9,  3, 20, 19]),\n",
       "  'cols': array([ 0,  0,  0,  1,  1,  1,  2,  2,  2,  3,  3,  3,  4,  4,  4,  5,  5,\n",
       "          5,  6,  6,  6,  7,  7,  7,  8,  8,  8,  9,  9,  9, 10, 10, 10, 11,\n",
       "         11, 11, 12, 12, 12, 13, 13, 13, 14, 14, 14, 15, 15, 15, 16, 16, 16,\n",
       "         17, 17, 17, 18, 18, 18, 19, 19, 19, 20, 20, 20, 21, 21, 21, 22, 22,\n",
       "         22, 23, 23, 23, 24, 24, 24])},\n",
       " 3: {'n_rows': 25,\n",
       "  'n_cols': 10,\n",
       "  'data': array([ 1., -1.,  1., -1.,  1., -1.,  1., -1.,  1., -1.,  1., -1.,  1.,\n",
       "         -1.,  1., -1.,  1., -1.,  1., -1.,  1., -1.,  1., -1.,  1., -1.,\n",
       "          1., -1.,  1., -1.,  1., -1.,  1., -1.,  1., -1.,  1., -1.,  1.,\n",
       "         -1.]),\n",
       "  'rows': array([ 0,  9,  2,  8,  1,  9,  5, 10, 12,  2, 11,  3, 14, 13, 11,  4,  0,\n",
       "          1, 16, 15, 17, 13,  5,  6, 16, 12, 19, 18, 21, 20,  3,  4, 15,  7,\n",
       "         22, 18, 24,  8, 23, 20]),\n",
       "  'cols': array([0, 0, 0, 0, 1, 1, 1, 1, 2, 2, 2, 2, 3, 3, 3, 3, 4, 4, 4, 4, 5, 5,\n",
       "         5, 5, 6, 6, 6, 6, 7, 7, 7, 7, 8, 8, 8, 8, 9, 9, 9, 9])}}"
      ]
     },
     "execution_count": 2,
     "metadata": {},
     "output_type": "execute_result"
    }
   ],
   "source": [
    "from src.filtrations import simplices_by_dimension, compute_boundary_matrices, filtration_hash_map\n",
    "\n",
    "unique_filtration_values = sorted(list(set([f for (_, f) in filtration])))\n",
    "simplices_by_dim, simplices_by_dim_only_filt = simplices_by_dimension(filtration)\n",
    "boundary_matrices = compute_boundary_matrices(simplices_by_dim)\n",
    "boundary_maps_index_dict = filtration_hash_map(filtration, simplices_by_dim_only_filt)\n",
    "boundary_matrices"
   ]
  },
  {
   "cell_type": "markdown",
   "metadata": {},
   "source": [
    "## Compute homology using persistent laplacians\n",
    "For now, compute only first homology.\n",
    "Lanczos library panics on diagonal matrices it seems."
   ]
  },
  {
   "cell_type": "code",
   "execution_count": 3,
   "metadata": {},
   "outputs": [],
   "source": [
    "import persistent_laplacians\n",
    "result = persistent_laplacians.process_tda(\n",
    "    boundary_matrices,\n",
    "    boundary_maps_index_dict\n",
    ")"
   ]
  },
  {
   "cell_type": "code",
   "execution_count": 10,
   "metadata": {},
   "outputs": [
    {
     "data": {
      "text/plain": [
       "1"
      ]
     },
     "execution_count": 10,
     "metadata": {},
     "output_type": "execute_result"
    }
   ],
   "source": [
    "result[1][(7,9)]"
   ]
  },
  {
   "cell_type": "markdown",
   "metadata": {},
   "source": [
    "## Barcodes "
   ]
  },
  {
   "cell_type": "code",
   "execution_count": 11,
   "metadata": {},
   "outputs": [
    {
     "name": "stdout",
     "output_type": "stream",
     "text": [
      "{1: {(7, 10): 1, (5, 6): 1, (14, 15): 1}}\n"
     ]
    },
    {
     "data": {
      "text/plain": [
       "{(0.2180885959941969, 0.23058452848785793): 1,\n",
       " (0.18707990250267736, 0.19435112548478917): 1,\n",
       " (0.9050949522549336, 1.0548979477410552): 1}"
      ]
     },
     "execution_count": 11,
     "metadata": {},
     "output_type": "execute_result"
    }
   ],
   "source": [
    "from src.barcodes import barcodes\n",
    "barcodes = barcodes(result, unique_filtration_values)\n",
    "print(barcodes)\n",
    "barcodes = {(unique_filtration_values[i], unique_filtration_values[j]): v for ((i, j), v) in barcodes[1].items()}\n",
    "barcodes"
   ]
  },
  {
   "cell_type": "markdown",
   "metadata": {},
   "source": [
    "## Corresponding filtration values"
   ]
  },
  {
   "cell_type": "code",
   "execution_count": 17,
   "metadata": {},
   "outputs": [
    {
     "data": {
      "text/plain": [
       "[0.0,\n",
       " 0.07525400502461241,\n",
       " 0.09213436427251455,\n",
       " 0.15276369011276486,\n",
       " 0.1533883530553805,\n",
       " 0.18707990250267736,\n",
       " 0.19435112548478917,\n",
       " 0.2180885959941969,\n",
       " 0.21913574782134182,\n",
       " 0.21951233503062645,\n",
       " 0.23058452848785793,\n",
       " 0.33093438869791814,\n",
       " 0.7111513097201294,\n",
       " 0.7769946386599483,\n",
       " 0.9050949522549336,\n",
       " 1.0548979477410552,\n",
       " 7.942273118846592,\n",
       " 404.3544575421007,\n",
       " 2795.0592378687616,\n",
       " 2.3060943458638305e+30,\n",
       " 2.7264016216922405e+31,\n",
       " 3.6599246746803354e+31,\n",
       " 1.1359755819773165e+32,\n",
       " 1.2268246378306708e+32,\n",
       " 3.510203356456954e+32,\n",
       " 7.357265866615837e+32,\n",
       " 7.753379684130494e+32,\n",
       " 3.1164705744732644e+33,\n",
       " 1.4304825237910193e+35]"
      ]
     },
     "execution_count": 17,
     "metadata": {},
     "output_type": "execute_result"
    }
   ],
   "source": [
    "unique_filtration_values"
   ]
  },
  {
   "cell_type": "markdown",
   "metadata": {},
   "source": [
    "## Verify with Gudhi"
   ]
  },
  {
   "cell_type": "code",
   "execution_count": 18,
   "metadata": {},
   "outputs": [
    {
     "data": {
      "text/plain": [
       "[(1, (0.9050949522549336, 1.0548979477410552)),\n",
       " (1, (0.2180885959941969, 0.23058452848785793)),\n",
       " (1, (0.18707990250267736, 0.19435112548478917)),\n",
       " (1, (0.21913574782134182, 0.21951233503062645)),\n",
       " (0, (0.0, inf)),\n",
       " (0, (0.0, 0.7769946386599483)),\n",
       " (0, (0.0, 0.33093438869791814)),\n",
       " (0, (0.0, 0.1533883530553805)),\n",
       " (0, (0.0, 0.15276369011276486)),\n",
       " (0, (0.0, 0.09213436427251455)),\n",
       " (0, (0.0, 0.07525400502461241))]"
      ]
     },
     "execution_count": 18,
     "metadata": {},
     "output_type": "execute_result"
    }
   ],
   "source": [
    "import gudhi\n",
    "# Compute persistence\n",
    "st.persistence()"
   ]
  },
  {
   "cell_type": "code",
   "execution_count": null,
   "metadata": {},
   "outputs": [],
   "source": []
  }
 ],
 "metadata": {
  "kernelspec": {
   "display_name": ".venv",
   "language": "python",
   "name": "python3"
  },
  "language_info": {
   "codemirror_mode": {
    "name": "ipython",
    "version": 3
   },
   "file_extension": ".py",
   "mimetype": "text/x-python",
   "name": "python",
   "nbconvert_exporter": "python",
   "pygments_lexer": "ipython3",
   "version": "3.10.15"
  }
 },
 "nbformat": 4,
 "nbformat_minor": 2
}
