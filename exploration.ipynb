{
 "cells": [
  {
   "cell_type": "markdown",
   "metadata": {},
   "source": [
    "## Get a filtration from Gudhi"
   ]
  },
  {
   "cell_type": "code",
   "execution_count": 1,
   "metadata": {},
   "outputs": [
    {
     "data": {
      "image/png": "[encoded data removed]",
      "text/plain": [
       "<Figure size 640x480 with 1 Axes>"
      ]
     },
     "metadata": {},
     "output_type": "display_data"
    }
   ],
   "source": [
    "import numpy as np\n",
    "import gudhi as gd\n",
    "import tadasets\n",
    "import matplotlib.pyplot as plt\n",
    "sphere = tadasets.dsphere(n=20, d=1, noise=0, seed=42)\n",
    "plt.scatter(sphere[:,0], sphere[:,1], s=1)\n",
    "for i, (x, y) in enumerate(sphere):\n",
    "    plt.text(x, y, str(i), fontsize=12, ha='center', va='center')\n",
    "rips = gd.RipsComplex(points=sphere, max_edge_length=1.8)\n",
    "st = rips.create_simplex_tree(max_dimension=2)\n",
    "filtration = list(st.get_filtration())"
   ]
  },
  {
   "cell_type": "markdown",
   "metadata": {},
   "source": [
    "## Convert it to boundary map data"
   ]
  },
  {
   "cell_type": "code",
   "execution_count": 2,
   "metadata": {},
   "outputs": [],
   "source": [
    "from src.filtrations import simplices_by_dimension, compute_boundary_matrices, filtration_hash_map\n",
    "\n",
    "unique_filtration_values = sorted(list(set([f for (_, f) in filtration])))\n",
    "simplices_by_dim, simplices_by_dim_only_filt = simplices_by_dimension(filtration)\n",
    "boundary_matrices = compute_boundary_matrices(simplices_by_dim)\n",
    "boundary_maps_index_dict = filtration_hash_map(filtration, simplices_by_dim_only_filt)\n"
   ]
  },
  {
   "cell_type": "markdown",
   "metadata": {},
   "source": [
    "## Compute homology using persistent laplacians\n",
    "For now, compute only first homology.\n",
    "Lanczos library panics on diagonal matrices it seems."
   ]
  },
  {
   "cell_type": "code",
   "execution_count": 3,
   "metadata": {},
   "outputs": [
    {
     "name": "stderr",
     "output_type": "stream",
     "text": [
      "\n",
      "thread '<unnamed>' panicked at /Users/marcelmasque/.cargo/registry/src/index.crates.io-1949cf8c6b5b557f/lanczos-0.2.0/src/lib.rs:177:81:\n",
      "called `Option::unwrap()` on a `None` value\n",
      "note: run with `RUST_BACKTRACE=1` environment variable to display a backtrace\n",
      "\n",
      "thread '<unnamed>' panicked at /Users/marcelmasque/.cargo/registry/src/index.crates.io-1949cf8c6b5b557f/lanczos-0.2.0/src/lib.rs:177:81:\n",
      "called `Option::unwrap()` on a `None` value\n",
      "\n",
      "thread '<unnamed>' panicked at /Users/marcelmasque/.cargo/registry/src/index.crates.io-1949cf8c6b5b557f/lanczos-0.2.0/src/lib.rs:177:81:\n",
      "called `Option::unwrap()` on a `None` value\n",
      "\n",
      "thread '<unnamed>' panicked at /Users/marcelmasque/.cargo/registry/src/index.crates.io-1949cf8c6b5b557f/lanczos-0.2.0/src/lib.rs:177:81:\n",
      "called `Option::unwrap()` on a `None` value\n",
      "\n",
      "thread '<unnamed>' panicked at /Users/marcelmasque/.cargo/registry/src/index.crates.io-1949cf8c6b5b557f/lanczos-0.2.0/src/lib.rs:177:81:\n",
      "called `Option::unwrap()` on a `None` value\n",
      "\n",
      "thread '<unnamed>' panicked at /Users/marcelmasque/.cargo/registry/src/index.crates.io-1949cf8c6b5b557f/lanczos-0.2.0/src/lib.rs:177:81:\n",
      "called `Option::unwrap()` on a `None` value\n",
      "\n",
      "thread '<unnamed>' panicked at /Users/marcelmasque/.cargo/registry/src/index.crates.io-1949cf8c6b5b557f/lanczos-0.2.0/src/lib.rs:177:81:\n",
      "called `Option::unwrap()` on a `None` value\n",
      "\n",
      "thread '<unnamed>' panicked at /Users/marcelmasque/.cargo/registry/src/index.crates.io-1949cf8c6b5b557f/lanczos-0.2.0/src/lib.rs:177:81:\n",
      "called `Option::unwrap()` on a `None` value\n",
      "\n",
      "thread '<unnamed>' panicked at /Users/marcelmasque/.cargo/registry/src/index.crates.io-1949cf8c6b5b557f/lanczos-0.2.0/src/lib.rs:177:81:\n",
      "called `Option::unwrap()` on a `None` value\n",
      "\n",
      "thread '<unnamed>' panicked at /Users/marcelmasque/.cargo/registry/src/index.crates.io-1949cf8c6b5b557f/lanczos-0.2.0/src/lib.rs:177:81:\n",
      "called `Option::unwrap()` on a `None` value\n",
      "\n",
      "thread '<unnamed>' panicked at /Users/marcelmasque/.cargo/registry/src/index.crates.io-1949cf8c6b5b557f/lanczos-0.2.0/src/lib.rs:177:81:\n",
      "called `Option::unwrap()` on a `None` value\n",
      "\n",
      "thread '<unnamed>' panicked at /Users/marcelmasque/.cargo/registry/src/index.crates.io-1949cf8c6b5b557f/lanczos-0.2.0/src/lib.rs:177:81:\n",
      "called `Option::unwrap()` on a `None` value\n"
     ]
    }
   ],
   "source": [
    "import persistent_laplacians\n",
    "\n",
    "result = persistent_laplacians.process_tda(\n",
    "    boundary_matrices,\n",
    "    boundary_maps_index_dict\n",
    ")"
   ]
  },
  {
   "cell_type": "markdown",
   "metadata": {},
   "source": [
    "## Persistent Betti numbers"
   ]
  },
  {
   "cell_type": "code",
   "execution_count": 7,
   "metadata": {},
   "outputs": [
    {
     "data": {
      "text/plain": [
       "{1: {(46, 141): 1}}"
      ]
     },
     "execution_count": 7,
     "metadata": {},
     "output_type": "execute_result"
    }
   ],
   "source": [
    "from src.persistent_betty import persistent_betti_numbers\n",
    "persistent_bettis = persistent_betti_numbers(result, unique_filtration_values)\n",
    "persistent_bettis"
   ]
  },
  {
   "cell_type": "markdown",
   "metadata": {},
   "source": [
    "## Corresponding filtration values"
   ]
  },
  {
   "cell_type": "code",
   "execution_count": 5,
   "metadata": {},
   "outputs": [
    {
     "data": {
      "text/plain": [
       "(0.7011311593314402, 1.7622041348107578)"
      ]
     },
     "execution_count": 5,
     "metadata": {},
     "output_type": "execute_result"
    }
   ],
   "source": [
    "(unique_filtration_values[46], unique_filtration_values[141])"
   ]
  },
  {
   "cell_type": "markdown",
   "metadata": {},
   "source": [
    "## Verify with Gudhi"
   ]
  },
  {
   "cell_type": "code",
   "execution_count": 6,
   "metadata": {},
   "outputs": [
    {
     "data": {
      "text/plain": [
       "[(1, (0.7011311593314402, 1.7622041348107578)),\n",
       " (0, (0.0, inf)),\n",
       " (0, (0.0, 0.7009784890303917)),\n",
       " (0, (0.0, 0.6918225877025261)),\n",
       " (0, (0.0, 0.5960030633774311)),\n",
       " (0, (0.0, 0.5513991115782663)),\n",
       " (0, (0.0, 0.5353720218888437)),\n",
       " (0, (0.0, 0.4628597920109854)),\n",
       " (0, (0.0, 0.4581593493374387)),\n",
       " (0, (0.0, 0.3965677370192922)),\n",
       " (0, (0.0, 0.3317297308025137)),\n",
       " (0, (0.0, 0.21112086427509652)),\n",
       " (0, (0.0, 0.1368687277719028)),\n",
       " (0, (0.0, 0.11857189055045453)),\n",
       " (0, (0.0, 0.09980026648584228)),\n",
       " (0, (0.0, 0.06011218693087315)),\n",
       " (0, (0.0, 0.058810531396995824)),\n",
       " (0, (0.0, 0.05385351384112214)),\n",
       " (0, (0.0, 0.019616356985902084)),\n",
       " (0, (0.0, 0.014659691083728504)),\n",
       " (0, (0.0, 0.0025234211428959647))]"
      ]
     },
     "execution_count": 6,
     "metadata": {},
     "output_type": "execute_result"
    }
   ],
   "source": [
    "import gudhi\n",
    "\n",
    "sphere = tadasets.dsphere(n=20, d=1, noise=0, seed=42)\n",
    "rips_complex = gudhi.RipsComplex(points=sphere, max_edge_length=3)\n",
    "simplex_tree = rips_complex.create_simplex_tree(max_dimension=2)\n",
    "\n",
    "# Compute persistence\n",
    "simplex_tree.persistence()"
   ]
  }
 ],
 "metadata": {
  "kernelspec": {
   "display_name": ".venv",
   "language": "python",
   "name": "python3"
  },
  "language_info": {
   "codemirror_mode": {
    "name": "ipython",
    "version": 3
   },
   "file_extension": ".py",
   "mimetype": "text/x-python",
   "name": "python",
   "nbconvert_exporter": "python",
   "pygments_lexer": "ipython3",
   "version": "3.10.15"
  }
 },
 "nbformat": 4,
 "nbformat_minor": 2
}
